{
 "cells": [
  {
   "cell_type": "code",
   "execution_count": 88,
   "metadata": {},
   "outputs": [],
   "source": [
    "import torch\n",
    "import torch.nn as nn\n",
    "\n",
    "import numpy as np\n",
    "import matplotlib.pyplot as plt"
   ]
  },
  {
   "cell_type": "code",
   "execution_count": 157,
   "metadata": {},
   "outputs": [],
   "source": [
    "def eq_covariance(inputs,\n",
    "                  scale,\n",
    "                  cov_coeff,\n",
    "                  noise_coeff):\n",
    "    \n",
    "    diff = inputs[:, None] - inputs[None, :]\n",
    "    \n",
    "    quad = (diff / (2 * scale ** 2)) ** 2\n",
    "    \n",
    "    exp_quad = cov_coeff ** 2 * np.exp(- quad)\n",
    "    exp_quad = exp_quad + noise_coeff ** 2 * np.eye(quad.shape[0])\n",
    "    \n",
    "    return exp_quad\n",
    "\n",
    "\n",
    "def sample_dataset(num_train,\n",
    "                   num_test,\n",
    "                   scale,\n",
    "                   cov_coeff,\n",
    "                   noise_coeff,\n",
    "                   as_tensor):\n",
    "    \n",
    "    x_train_test = np.random.uniform(low=-3., high=3., size=(num_train + num_test,))\n",
    "\n",
    "    cov_train_test = eq_covariance(x_train_test,\n",
    "                                   scale,\n",
    "                                   cov_coeff,\n",
    "                                   noise_coeff)\n",
    "    \n",
    "    y_train_test = np.random.multivariate_normal(np.zeros(cov_train_test.shape[0]), cov_train_test)\n",
    "    \n",
    "    x_train = x_train_test[:num_train]\n",
    "    x_test = x_train_test[num_train:]\n",
    "    \n",
    "    y_train = y_train_test[:num_train]\n",
    "    y_test = y_train_test[num_train:]\n",
    "    \n",
    "    \n",
    "    x_train, y_train, x_test, y_test = [torch.tensor(array).float() if as_tensor else array \\\n",
    "                                        for array in (x_train, y_train, x_test, y_test)]\n",
    "    \n",
    "    return (x_train, y_train), (x_test, y_test)"
   ]
  },
  {
   "cell_type": "code",
   "execution_count": 158,
   "metadata": {},
   "outputs": [
    {
     "data": {
      "image/png": "[encoded data removed]",
      "text/plain": [
       "<Figure size 432x288 with 1 Axes>"
      ]
     },
     "metadata": {
      "needs_background": "light"
     },
     "output_type": "display_data"
    }
   ],
   "source": [
    "num_train = 5\n",
    "num_test = 3\n",
    "lengthscale = 1.\n",
    "cov_coeff = 1e0\n",
    "noise_coeff = 1e-1\n",
    "as_tensor = False\n",
    "\n",
    "train_data, test_data = sample_dataset(num_train,\n",
    "                                       num_test,\n",
    "                                       lengthscale,\n",
    "                                       cov_coeff,\n",
    "                                       noise_coeff,\n",
    "                                       as_tensor)\n",
    "\n",
    "plt.scatter(train_data[0], train_data[1], marker='x', color='black')\n",
    "plt.scatter(test_data[0], test_data[1], marker='x', color='blue')\n",
    "\n",
    "plt.xlim([-4, 4])\n",
    "plt.ylim([-2, 2])\n",
    "plt.show()"
   ]
  },
  {
   "cell_type": "code",
   "execution_count": 159,
   "metadata": {},
   "outputs": [],
   "source": [
    "class FeedforwardNetwork(nn.Module):\n",
    "    \n",
    "    \n",
    "    def __init__(self,\n",
    "                 input_dim,\n",
    "                 output_dim,\n",
    "                 nums_hidden,\n",
    "                 nonlinearity):\n",
    "        \n",
    "        super().__init__()\n",
    "        \n",
    "        sizes = [input_dim] + nums_hidden + [output_dim]\n",
    "        sizes = [(s1, s2) for s1, s2 in zip(sizes[:-1], sizes[1:])]\n",
    "        \n",
    "        self.linear = [nn.Linear(s1, s2, bias=True) for s1, s2 in sizes]\n",
    "        self.linear = nn.ModuleList(self.linear)\n",
    "        \n",
    "        self.nonlinearity = getattr(nn, nonlinearity)()\n",
    "        \n",
    "    \n",
    "    def forward(self, tensor):\n",
    "        \n",
    "        for linear in self.linear[:-1]:\n",
    "            \n",
    "            tensor = linear(tensor)\n",
    "            tensor = self.nonlinearity(tensor)\n",
    "            \n",
    "        tensor = self.linear[-1](tensor)\n",
    "        \n",
    "        return tensor\n",
    "    \n",
    "    \n",
    "class ConditionalNeuralProcess(nn.Module):\n",
    "    \n",
    "    def __init__(self,\n",
    "                 discriminator,\n",
    "                 encoder):\n",
    "        \n",
    "        \n",
    "        super().__init__()\n",
    "        \n",
    "        self.discriminator = discriminator\n",
    "        self.encoder = encoder\n",
    "        \n",
    "        self.normal = torch.distributions.Normal\n",
    "        \n",
    "        \n",
    "    def forward(self, tensor):\n",
    "        \n",
    "        tensor = torch.reshape(tensor, (-1, 1))\n",
    "        \n",
    "        theta = self.encoder(tensor)\n",
    "        theta = torch.mean(theta, dim=0)[None, :]\n",
    "        theta = theta.repeat(tensor.shape[0], 1)\n",
    "        \n",
    "        tensor = torch.cat([tensor, theta], dim=-1)\n",
    "        \n",
    "        tensor = self.discriminator(tensor)\n",
    "        \n",
    "        return tensor\n",
    "    \n",
    "    \n",
    "    def loss(self, inputs, outputs):\n",
    "        \n",
    "        model_outputs = self.forward(inputs)\n",
    "        \n",
    "        cond_dist = self.normal(logits=model_outputs)\n",
    "        \n",
    "        log_prob = cond_dist.log_prob(outputs)\n",
    "        \n",
    "        return log_prob"
   ]
  },
  {
   "cell_type": "code",
   "execution_count": 160,
   "metadata": {},
   "outputs": [],
   "source": [
    "discriminator = FeedforwardNetwork(input_dim=65,\n",
    "                                   output_dim=2,\n",
    "                                   nums_hidden=[64, 64],\n",
    "                                   nonlinearity='ReLU')\n",
    "\n",
    "encoder = FeedforwardNetwork(input_dim=1,\n",
    "                             output_dim=64,\n",
    "                             nums_hidden=[64, 64],\n",
    "                             nonlinearity='ReLU')"
   ]
  },
  {
   "cell_type": "code",
   "execution_count": 161,
   "metadata": {},
   "outputs": [
    {
     "data": {
      "text/plain": [
       "tensor([[-0.0195,  0.1198]], grad_fn=<AddmmBackward>)"
      ]
     },
     "execution_count": 161,
     "metadata": {},
     "output_type": "execute_result"
    }
   ],
   "source": [
    "conditional_neural_process = ConditionalNeuralProcess(discriminator=discriminator,\n",
    "                                                      encoder=encoder)\n",
    "\n",
    "conditional_neural_process(torch.ones(1,))"
   ]
  },
  {
   "cell_type": "code",
   "execution_count": 162,
   "metadata": {},
   "outputs": [
    {
     "data": {
      "text/plain": [
       "tensor([[-0.0234,  0.1275],\n",
       "        [-0.0105,  0.1127],\n",
       "        [-0.0137,  0.1236],\n",
       "        [-0.0239,  0.1277],\n",
       "        [-0.0002,  0.1031]], grad_fn=<AddmmBackward>)"
      ]
     },
     "execution_count": 162,
     "metadata": {},
     "output_type": "execute_result"
    }
   ],
   "source": [
    "num_train = 5\n",
    "num_test = 3\n",
    "lengthscale = 1.\n",
    "cov_coeff = 1e0\n",
    "noise_coeff = 1e-1\n",
    "as_tensor = True\n",
    "\n",
    "train_data, test_data = sample_dataset(num_train,\n",
    "                                       num_test,\n",
    "                                       lengthscale,\n",
    "                                       cov_coeff,\n",
    "                                       noise_coeff,\n",
    "                                       as_tensor)\n",
    "\n",
    "inputs, outputs = train_data\n",
    "\n",
    "conditional_neural_process = ConditionalNeuralProcess(discriminator=discriminator,\n",
    "                                                      encoder=encoder)\n",
    "\n",
    "print(conditional_neural_process(inputs))\n",
    "\n",
    "conditional_neural_process(inputs)"
   ]
  },
  {
   "cell_type": "code",
   "execution_count": 165,
   "metadata": {},
   "outputs": [],
   "source": [
    "# Dataset parameters\n",
    "num_train = 5\n",
    "num_test = 3\n",
    "lengthscale = 1.\n",
    "cov_coeff = 1e0\n",
    "noise_coeff = 1e-1\n",
    "as_tensor = True\n",
    "\n",
    "# Training parameters and optimizer\n",
    "num_train_steps = 1000\n",
    "lr = 1e-4\n",
    "\n",
    "conditional_neural_process = ConditionalNeuralProcess(discriminator=discriminator,\n",
    "                                                      encoder=encoder)\n",
    "\n",
    "optimizer = torch.optim.Adam(conditional_neural_process.parameters(), lr=lr)\n",
    "\n",
    "\n",
    "for i in trange(100):\n",
    "    \n",
    "    "
   ]
  },
  {
   "cell_type": "code",
   "execution_count": null,
   "metadata": {},
   "outputs": [],
   "source": []
  }
 ],
 "metadata": {
  "kernelspec": {
   "display_name": "venv-cnp",
   "language": "python",
   "name": "venv-cnp"
  },
  "language_info": {
   "codemirror_mode": {
    "name": "ipython",
    "version": 3
   },
   "file_extension": ".py",
   "mimetype": "text/x-python",
   "name": "python",
   "nbconvert_exporter": "python",
   "pygments_lexer": "ipython3",
   "version": "3.7.3"
  }
 },
 "nbformat": 4,
 "nbformat_minor": 4
}
